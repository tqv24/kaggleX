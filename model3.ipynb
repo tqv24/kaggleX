{
 "cells": [
  {
   "cell_type": "code",
   "execution_count": 44,
   "metadata": {},
   "outputs": [],
   "source": [
    "# import library\n",
    "import pandas as pd\n",
    "from sklearn.impute import SimpleImputer\n",
    "import torch.nn as nn\n",
    "import torch\n",
    "from torch.utils.data import TensorDataset, DataLoader\n",
    "from sklearn.model_selection import GridSearchCV\n",
    "from xgboost import XGBRegressor\n",
    "from sklearn.ensemble import GradientBoostingRegressor\n",
    "from sklearn.model_selection import train_test_split\n",
    "from sklearn.metrics import root_mean_squared_error as RMSE\n",
    "import torch.optim as optim\n",
    "import numpy as np"
   ]
  },
  {
   "cell_type": "code",
   "execution_count": 19,
   "metadata": {},
   "outputs": [
    {
     "data": {
      "text/html": [
       "<div>\n",
       "<style scoped>\n",
       "    .dataframe tbody tr th:only-of-type {\n",
       "        vertical-align: middle;\n",
       "    }\n",
       "\n",
       "    .dataframe tbody tr th {\n",
       "        vertical-align: top;\n",
       "    }\n",
       "\n",
       "    .dataframe thead th {\n",
       "        text-align: right;\n",
       "    }\n",
       "</style>\n",
       "<table border=\"1\" class=\"dataframe\">\n",
       "  <thead>\n",
       "    <tr style=\"text-align: right;\">\n",
       "      <th></th>\n",
       "      <th>id</th>\n",
       "      <th>brand</th>\n",
       "      <th>model</th>\n",
       "      <th>model_year</th>\n",
       "      <th>milage</th>\n",
       "      <th>fuel_type</th>\n",
       "      <th>engine</th>\n",
       "      <th>transmission</th>\n",
       "      <th>ext_col</th>\n",
       "      <th>int_col</th>\n",
       "      <th>accident</th>\n",
       "      <th>clean_title</th>\n",
       "      <th>price</th>\n",
       "    </tr>\n",
       "  </thead>\n",
       "  <tbody>\n",
       "    <tr>\n",
       "      <th>0</th>\n",
       "      <td>0</td>\n",
       "      <td>Ford</td>\n",
       "      <td>F-150 Lariat</td>\n",
       "      <td>2018</td>\n",
       "      <td>74349</td>\n",
       "      <td>Gasoline</td>\n",
       "      <td>375.0HP 3.5L V6 Cylinder Engine Gasoline Fuel</td>\n",
       "      <td>10-Speed A/T</td>\n",
       "      <td>Blue</td>\n",
       "      <td>Gray</td>\n",
       "      <td>None reported</td>\n",
       "      <td>Yes</td>\n",
       "      <td>11000</td>\n",
       "    </tr>\n",
       "    <tr>\n",
       "      <th>1</th>\n",
       "      <td>1</td>\n",
       "      <td>BMW</td>\n",
       "      <td>335 i</td>\n",
       "      <td>2007</td>\n",
       "      <td>80000</td>\n",
       "      <td>Gasoline</td>\n",
       "      <td>300.0HP 3.0L Straight 6 Cylinder Engine Gasoli...</td>\n",
       "      <td>6-Speed M/T</td>\n",
       "      <td>Black</td>\n",
       "      <td>Black</td>\n",
       "      <td>None reported</td>\n",
       "      <td>Yes</td>\n",
       "      <td>8250</td>\n",
       "    </tr>\n",
       "    <tr>\n",
       "      <th>2</th>\n",
       "      <td>2</td>\n",
       "      <td>Jaguar</td>\n",
       "      <td>XF Luxury</td>\n",
       "      <td>2009</td>\n",
       "      <td>91491</td>\n",
       "      <td>Gasoline</td>\n",
       "      <td>300.0HP 4.2L 8 Cylinder Engine Gasoline Fuel</td>\n",
       "      <td>6-Speed A/T</td>\n",
       "      <td>Purple</td>\n",
       "      <td>Beige</td>\n",
       "      <td>None reported</td>\n",
       "      <td>Yes</td>\n",
       "      <td>15000</td>\n",
       "    </tr>\n",
       "    <tr>\n",
       "      <th>3</th>\n",
       "      <td>3</td>\n",
       "      <td>BMW</td>\n",
       "      <td>X7 xDrive40i</td>\n",
       "      <td>2022</td>\n",
       "      <td>2437</td>\n",
       "      <td>Hybrid</td>\n",
       "      <td>335.0HP 3.0L Straight 6 Cylinder Engine Gasoli...</td>\n",
       "      <td>Transmission w/Dual Shift Mode</td>\n",
       "      <td>Gray</td>\n",
       "      <td>Brown</td>\n",
       "      <td>None reported</td>\n",
       "      <td>Yes</td>\n",
       "      <td>63500</td>\n",
       "    </tr>\n",
       "    <tr>\n",
       "      <th>4</th>\n",
       "      <td>4</td>\n",
       "      <td>Pontiac</td>\n",
       "      <td>Firebird Base</td>\n",
       "      <td>2001</td>\n",
       "      <td>111000</td>\n",
       "      <td>Gasoline</td>\n",
       "      <td>200.0HP 3.8L V6 Cylinder Engine Gasoline Fuel</td>\n",
       "      <td>A/T</td>\n",
       "      <td>White</td>\n",
       "      <td>Black</td>\n",
       "      <td>None reported</td>\n",
       "      <td>Yes</td>\n",
       "      <td>7850</td>\n",
       "    </tr>\n",
       "  </tbody>\n",
       "</table>\n",
       "</div>"
      ],
      "text/plain": [
       "   id    brand          model  model_year  milage fuel_type  \\\n",
       "0   0     Ford   F-150 Lariat        2018   74349  Gasoline   \n",
       "1   1      BMW          335 i        2007   80000  Gasoline   \n",
       "2   2   Jaguar      XF Luxury        2009   91491  Gasoline   \n",
       "3   3      BMW   X7 xDrive40i        2022    2437    Hybrid   \n",
       "4   4  Pontiac  Firebird Base        2001  111000  Gasoline   \n",
       "\n",
       "                                              engine  \\\n",
       "0      375.0HP 3.5L V6 Cylinder Engine Gasoline Fuel   \n",
       "1  300.0HP 3.0L Straight 6 Cylinder Engine Gasoli...   \n",
       "2       300.0HP 4.2L 8 Cylinder Engine Gasoline Fuel   \n",
       "3  335.0HP 3.0L Straight 6 Cylinder Engine Gasoli...   \n",
       "4      200.0HP 3.8L V6 Cylinder Engine Gasoline Fuel   \n",
       "\n",
       "                     transmission ext_col int_col       accident clean_title  \\\n",
       "0                    10-Speed A/T    Blue    Gray  None reported         Yes   \n",
       "1                     6-Speed M/T   Black   Black  None reported         Yes   \n",
       "2                     6-Speed A/T  Purple   Beige  None reported         Yes   \n",
       "3  Transmission w/Dual Shift Mode    Gray   Brown  None reported         Yes   \n",
       "4                             A/T   White   Black  None reported         Yes   \n",
       "\n",
       "   price  \n",
       "0  11000  \n",
       "1   8250  \n",
       "2  15000  \n",
       "3  63500  \n",
       "4   7850  "
      ]
     },
     "execution_count": 19,
     "metadata": {},
     "output_type": "execute_result"
    }
   ],
   "source": [
    "df = pd.read_csv('train.csv')\n",
    "df.head()"
   ]
  },
  {
   "cell_type": "code",
   "execution_count": 21,
   "metadata": {},
   "outputs": [
    {
     "data": {
      "text/plain": [
       "(61,)"
      ]
     },
     "execution_count": 21,
     "metadata": {},
     "output_type": "execute_result"
    }
   ],
   "source": [
    "# Engine column\n",
    "imputer = SimpleImputer(strategy='mean')\n",
    "df['engine_volumn'] = df[\"engine\"].str.extract(r\"(\\d+\\.?\\d*)L\").astype('float')\n",
    "df['engine_volumn'] = imputer.fit_transform(df[['engine_volumn']])\n",
    "df['engine_volumn'].unique().shape"
   ]
  },
  {
   "cell_type": "code",
   "execution_count": 22,
   "metadata": {},
   "outputs": [
    {
     "data": {
      "text/plain": [
       "(4,)"
      ]
     },
     "execution_count": 22,
     "metadata": {},
     "output_type": "execute_result"
    }
   ],
   "source": [
    "# Transmission column\n",
    "def categorize_transmission(trans):\n",
    "    trans = trans.lower().strip()  # Convert to lowercase and strip whitespaces\n",
    "    if 'auto' in trans or 'a/t' in trans or 'automatic' in trans and \"cvt\" not in trans:\n",
    "        return 'automatic'\n",
    "    elif 'cvt' in trans:\n",
    "        return 'cvt'\n",
    "    elif 'manual' in trans:\n",
    "        return 'manual'\n",
    "    else:\n",
    "        return 'other'\n",
    "df['transmission'] = df['transmission'].apply(categorize_transmission)\n",
    "df['transmission'].unique().shape"
   ]
  },
  {
   "cell_type": "code",
   "execution_count": 23,
   "metadata": {},
   "outputs": [
    {
     "name": "stdout",
     "output_type": "stream",
     "text": [
      "(14,) (13,)\n"
     ]
    }
   ],
   "source": [
    "# Exterior/Interior color values\n",
    "def categorize_col(col):\n",
    "    basic_colors = {\n",
    "        'blue': 'blue',\n",
    "        'black': 'black',\n",
    "        'purple': 'purple',\n",
    "        'gray': 'gray',\n",
    "        'white': 'white',\n",
    "        'red': 'red',\n",
    "        'silver': 'silver',\n",
    "        'green': 'green',\n",
    "        'orange': 'orange',\n",
    "        'beige': 'beige',\n",
    "        'gold': 'gold',\n",
    "        'brown': 'brown',\n",
    "        'yellow': 'yellow'\n",
    "    }\n",
    "    col = col.lower().strip()\n",
    "    for basic_color in basic_colors:\n",
    "        if basic_color in col:\n",
    "            return basic_colors[basic_color]\n",
    "    return 'other'\n",
    "df['ext_col'] = df['ext_col'].apply(categorize_col)\n",
    "df['int_col'] = df['int_col'].apply(categorize_col)\n",
    "\n",
    "print(df['ext_col'].unique().shape, df['int_col'].unique().shape)"
   ]
  },
  {
   "cell_type": "code",
   "execution_count": 29,
   "metadata": {},
   "outputs": [
    {
     "name": "stdout",
     "output_type": "stream",
     "text": [
      "(2,) (1,)\n"
     ]
    }
   ],
   "source": [
    "# Accident and Clean_title \n",
    "mapping = {\n",
    "    \"At least 1 accident or damage reported\": True,\n",
    "    \"None reported\": False\n",
    "}\n",
    "df['accident'] = df['accident'].map(mapping)\n",
    "df['clean_title'] = df['clean_title'].apply(lambda x: True if x == 'Yes' else False)\n",
    "print(df['accident'].unique().shape, df['clean_title'].unique().shape)"
   ]
  },
  {
   "cell_type": "code",
   "execution_count": 31,
   "metadata": {},
   "outputs": [
    {
     "name": "stdout",
     "output_type": "stream",
     "text": [
      "(54273, 93)\n",
      "(54273, 3)\n"
     ]
    }
   ],
   "source": [
    "# Finalize the df cat, num and y column\n",
    "df = df.drop(['model','engine'], axis = 1)\n",
    "df_dummies = pd.get_dummies(df.select_dtypes('object'))\n",
    "df_cat = pd.concat([df_dummies, df[['accident','clean_title']]],axis = 1)\n",
    "print(df_cat.shape)\n",
    "\n",
    "df_num = df[['model_year','milage','engine_volumn']]\n",
    "print(df_num.shape)\n",
    "\n",
    "df_price = df['price']\n",
    "\n",
    "X = pd.concat([df_num,df_cat],axis =1)\n",
    "y = df_price"
   ]
  },
  {
   "cell_type": "code",
   "execution_count": 35,
   "metadata": {},
   "outputs": [
    {
     "name": "stdout",
     "output_type": "stream",
     "text": [
      "(36183, 93)\n",
      "(36183, 3)\n"
     ]
    }
   ],
   "source": [
    "tdf = pd.read_csv('test.csv')\n",
    "\n",
    "tdf['engine_volumn'] = tdf[\"engine\"].str.extract(r\"(\\d+\\.?\\d*)L\").astype('float')\n",
    "tdf['engine_volumn'] = imputer.fit_transform(tdf[['engine_volumn']])\n",
    "tdf['transmission'] = tdf['transmission'].apply(categorize_transmission)\n",
    "tdf['ext_col'] = tdf['ext_col'].apply(categorize_col)\n",
    "tdf['int_col'] = tdf['int_col'].apply(categorize_col)\n",
    "tdf['accident'] = tdf['accident'].map(mapping)\n",
    "tdf['clean_title'] = tdf['clean_title'].apply(lambda x: True if x == 'Yes' else False)\n",
    "\n",
    "# Finalize the df cat, num and y column\n",
    "tdf = tdf.drop(['model','engine'], axis = 1)\n",
    "tdf_dummies = pd.get_dummies(tdf.select_dtypes('object'))\n",
    "tdf_cat = pd.concat([tdf_dummies, tdf[['accident','clean_title']]],axis = 1)\n",
    "print(tdf_cat.shape)\n",
    "\n",
    "tdf_num = tdf[['model_year','milage','engine_volumn']]\n",
    "print(tdf_num.shape)\n",
    "X_t = pd.concat([tdf_num,tdf_cat],axis =1)\n"
   ]
  },
  {
   "cell_type": "markdown",
   "metadata": {},
   "source": [
    "### Tree regressor model on train data"
   ]
  },
  {
   "cell_type": "code",
   "execution_count": 36,
   "metadata": {},
   "outputs": [
    {
     "name": "stdout",
     "output_type": "stream",
     "text": [
      "Fitting 3 folds for each of 27 candidates, totalling 81 fits\n",
      "[CV 1/3; 1/27] START learning_rate=0.0001, max_depth=1, n_estimators=100........\n",
      "[CV 1/3; 1/27] END learning_rate=0.0001, max_depth=1, n_estimators=100;, score=-67179.338 total time=   0.4s\n",
      "[CV 2/3; 1/27] START learning_rate=0.0001, max_depth=1, n_estimators=100........\n",
      "[CV 2/3; 1/27] END learning_rate=0.0001, max_depth=1, n_estimators=100;, score=-77068.536 total time=   0.4s\n",
      "[CV 3/3; 1/27] START learning_rate=0.0001, max_depth=1, n_estimators=100........\n",
      "[CV 3/3; 1/27] END learning_rate=0.0001, max_depth=1, n_estimators=100;, score=-64567.616 total time=   0.4s\n",
      "[CV 1/3; 2/27] START learning_rate=0.0001, max_depth=1, n_estimators=500........\n",
      "[CV 1/3; 2/27] END learning_rate=0.0001, max_depth=1, n_estimators=500;, score=-67002.727 total time=   1.1s\n",
      "[CV 2/3; 2/27] START learning_rate=0.0001, max_depth=1, n_estimators=500........\n",
      "[CV 2/3; 2/27] END learning_rate=0.0001, max_depth=1, n_estimators=500;, score=-76907.456 total time=   1.0s\n",
      "[CV 3/3; 2/27] START learning_rate=0.0001, max_depth=1, n_estimators=500........\n",
      "[CV 3/3; 2/27] END learning_rate=0.0001, max_depth=1, n_estimators=500;, score=-64376.129 total time=   1.0s\n",
      "[CV 1/3; 3/27] START learning_rate=0.0001, max_depth=1, n_estimators=1000.......\n",
      "[CV 1/3; 3/27] END learning_rate=0.0001, max_depth=1, n_estimators=1000;, score=-66799.964 total time=   1.8s\n",
      "[CV 2/3; 3/27] START learning_rate=0.0001, max_depth=1, n_estimators=1000.......\n",
      "[CV 2/3; 3/27] END learning_rate=0.0001, max_depth=1, n_estimators=1000;, score=-76721.936 total time=   1.9s\n",
      "[CV 3/3; 3/27] START learning_rate=0.0001, max_depth=1, n_estimators=1000.......\n",
      "[CV 3/3; 3/27] END learning_rate=0.0001, max_depth=1, n_estimators=1000;, score=-64154.567 total time=   1.9s\n",
      "[CV 1/3; 4/27] START learning_rate=0.0001, max_depth=3, n_estimators=100........\n",
      "[CV 1/3; 4/27] END learning_rate=0.0001, max_depth=3, n_estimators=100;, score=-67152.957 total time=   0.5s\n",
      "[CV 2/3; 4/27] START learning_rate=0.0001, max_depth=3, n_estimators=100........\n",
      "[CV 2/3; 4/27] END learning_rate=0.0001, max_depth=3, n_estimators=100;, score=-77045.628 total time=   0.5s\n",
      "[CV 3/3; 4/27] START learning_rate=0.0001, max_depth=3, n_estimators=100........\n",
      "[CV 3/3; 4/27] END learning_rate=0.0001, max_depth=3, n_estimators=100;, score=-64541.954 total time=   0.5s\n",
      "[CV 1/3; 5/27] START learning_rate=0.0001, max_depth=3, n_estimators=500........\n",
      "[CV 1/3; 5/27] END learning_rate=0.0001, max_depth=3, n_estimators=500;, score=-66879.390 total time=   1.5s\n",
      "[CV 2/3; 5/27] START learning_rate=0.0001, max_depth=3, n_estimators=500........\n",
      "[CV 2/3; 5/27] END learning_rate=0.0001, max_depth=3, n_estimators=500;, score=-76797.465 total time=   1.5s\n",
      "[CV 3/3; 5/27] START learning_rate=0.0001, max_depth=3, n_estimators=500........\n",
      "[CV 3/3; 5/27] END learning_rate=0.0001, max_depth=3, n_estimators=500;, score=-64254.157 total time=   1.5s\n",
      "[CV 1/3; 6/27] START learning_rate=0.0001, max_depth=3, n_estimators=1000.......\n",
      "[CV 1/3; 6/27] END learning_rate=0.0001, max_depth=3, n_estimators=1000;, score=-66566.125 total time=   2.8s\n",
      "[CV 2/3; 6/27] START learning_rate=0.0001, max_depth=3, n_estimators=1000.......\n",
      "[CV 2/3; 6/27] END learning_rate=0.0001, max_depth=3, n_estimators=1000;, score=-76510.650 total time=   2.8s\n",
      "[CV 3/3; 6/27] START learning_rate=0.0001, max_depth=3, n_estimators=1000.......\n",
      "[CV 3/3; 6/27] END learning_rate=0.0001, max_depth=3, n_estimators=1000;, score=-63922.948 total time=   2.8s\n",
      "[CV 1/3; 7/27] START learning_rate=0.0001, max_depth=5, n_estimators=100........\n",
      "[CV 1/3; 7/27] END learning_rate=0.0001, max_depth=5, n_estimators=100;, score=-67148.215 total time=   0.6s\n",
      "[CV 2/3; 7/27] START learning_rate=0.0001, max_depth=5, n_estimators=100........\n",
      "[CV 2/3; 7/27] END learning_rate=0.0001, max_depth=5, n_estimators=100;, score=-77037.495 total time=   0.7s\n",
      "[CV 3/3; 7/27] START learning_rate=0.0001, max_depth=5, n_estimators=100........\n",
      "[CV 3/3; 7/27] END learning_rate=0.0001, max_depth=5, n_estimators=100;, score=-64533.880 total time=   0.6s\n",
      "[CV 1/3; 8/27] START learning_rate=0.0001, max_depth=5, n_estimators=500........\n",
      "[CV 1/3; 8/27] END learning_rate=0.0001, max_depth=5, n_estimators=500;, score=-66857.161 total time=   2.0s\n",
      "[CV 2/3; 8/27] START learning_rate=0.0001, max_depth=5, n_estimators=500........\n",
      "[CV 2/3; 8/27] END learning_rate=0.0001, max_depth=5, n_estimators=500;, score=-76757.709 total time=   2.0s\n",
      "[CV 3/3; 8/27] START learning_rate=0.0001, max_depth=5, n_estimators=500........\n",
      "[CV 3/3; 8/27] END learning_rate=0.0001, max_depth=5, n_estimators=500;, score=-64215.693 total time=   2.0s\n",
      "[CV 1/3; 9/27] START learning_rate=0.0001, max_depth=5, n_estimators=1000.......\n",
      "[CV 1/3; 9/27] END learning_rate=0.0001, max_depth=5, n_estimators=1000;, score=-66525.757 total time=   3.9s\n",
      "[CV 2/3; 9/27] START learning_rate=0.0001, max_depth=5, n_estimators=1000.......\n",
      "[CV 2/3; 9/27] END learning_rate=0.0001, max_depth=5, n_estimators=1000;, score=-76442.770 total time=   3.9s\n",
      "[CV 3/3; 9/27] START learning_rate=0.0001, max_depth=5, n_estimators=1000.......\n",
      "[CV 3/3; 9/27] END learning_rate=0.0001, max_depth=5, n_estimators=1000;, score=-63852.671 total time=   4.0s\n",
      "[CV 1/3; 10/27] START learning_rate=0.001, max_depth=1, n_estimators=100........\n",
      "[CV 1/3; 10/27] END learning_rate=0.001, max_depth=1, n_estimators=100;, score=-66799.792 total time=   0.5s\n",
      "[CV 2/3; 10/27] START learning_rate=0.001, max_depth=1, n_estimators=100........\n",
      "[CV 2/3; 10/27] END learning_rate=0.001, max_depth=1, n_estimators=100;, score=-76721.775 total time=   0.5s\n",
      "[CV 3/3; 10/27] START learning_rate=0.001, max_depth=1, n_estimators=100........\n",
      "[CV 3/3; 10/27] END learning_rate=0.001, max_depth=1, n_estimators=100;, score=-64154.316 total time=   0.5s\n",
      "[CV 1/3; 11/27] START learning_rate=0.001, max_depth=1, n_estimators=500........\n",
      "[CV 1/3; 11/27] END learning_rate=0.001, max_depth=1, n_estimators=500;, score=-65667.003 total time=   1.2s\n",
      "[CV 2/3; 11/27] START learning_rate=0.001, max_depth=1, n_estimators=500........\n",
      "[CV 2/3; 11/27] END learning_rate=0.001, max_depth=1, n_estimators=500;, score=-75673.755 total time=   1.2s\n",
      "[CV 3/3; 11/27] START learning_rate=0.001, max_depth=1, n_estimators=500........\n",
      "[CV 3/3; 11/27] END learning_rate=0.001, max_depth=1, n_estimators=500;, score=-62872.715 total time=   1.2s\n",
      "[CV 1/3; 12/27] START learning_rate=0.001, max_depth=1, n_estimators=1000.......\n",
      "[CV 1/3; 12/27] END learning_rate=0.001, max_depth=1, n_estimators=1000;, score=-64923.751 total time=   2.2s\n",
      "[CV 2/3; 12/27] START learning_rate=0.001, max_depth=1, n_estimators=1000.......\n",
      "[CV 2/3; 12/27] END learning_rate=0.001, max_depth=1, n_estimators=1000;, score=-74967.017 total time=   2.1s\n",
      "[CV 3/3; 12/27] START learning_rate=0.001, max_depth=1, n_estimators=1000.......\n",
      "[CV 3/3; 12/27] END learning_rate=0.001, max_depth=1, n_estimators=1000;, score=-61993.741 total time=   2.1s\n",
      "[CV 1/3; 13/27] START learning_rate=0.001, max_depth=3, n_estimators=100........\n",
      "[CV 1/3; 13/27] END learning_rate=0.001, max_depth=3, n_estimators=100;, score=-66565.807 total time=   0.5s\n",
      "[CV 2/3; 13/27] START learning_rate=0.001, max_depth=3, n_estimators=100........\n",
      "[CV 2/3; 13/27] END learning_rate=0.001, max_depth=3, n_estimators=100;, score=-76510.414 total time=   0.6s\n",
      "[CV 3/3; 13/27] START learning_rate=0.001, max_depth=3, n_estimators=100........\n",
      "[CV 3/3; 13/27] END learning_rate=0.001, max_depth=3, n_estimators=100;, score=-63922.924 total time=   0.6s\n",
      "[CV 1/3; 14/27] START learning_rate=0.001, max_depth=3, n_estimators=500........\n",
      "[CV 1/3; 14/27] END learning_rate=0.001, max_depth=3, n_estimators=500;, score=-64899.807 total time=   1.7s\n",
      "[CV 2/3; 14/27] START learning_rate=0.001, max_depth=3, n_estimators=500........\n",
      "[CV 2/3; 14/27] END learning_rate=0.001, max_depth=3, n_estimators=500;, score=-74935.040 total time=   1.7s\n",
      "[CV 3/3; 14/27] START learning_rate=0.001, max_depth=3, n_estimators=500........\n",
      "[CV 3/3; 14/27] END learning_rate=0.001, max_depth=3, n_estimators=500;, score=-62104.306 total time=   1.6s\n",
      "[CV 1/3; 15/27] START learning_rate=0.001, max_depth=3, n_estimators=1000.......\n",
      "[CV 1/3; 15/27] END learning_rate=0.001, max_depth=3, n_estimators=1000;, score=-63996.231 total time=   3.0s\n",
      "[CV 2/3; 15/27] START learning_rate=0.001, max_depth=3, n_estimators=1000.......\n",
      "[CV 2/3; 15/27] END learning_rate=0.001, max_depth=3, n_estimators=1000;, score=-74006.076 total time=   3.0s\n",
      "[CV 3/3; 15/27] START learning_rate=0.001, max_depth=3, n_estimators=1000.......\n",
      "[CV 3/3; 15/27] END learning_rate=0.001, max_depth=3, n_estimators=1000;, score=-61112.651 total time=   2.9s\n",
      "[CV 1/3; 16/27] START learning_rate=0.001, max_depth=5, n_estimators=100........\n",
      "[CV 1/3; 16/27] END learning_rate=0.001, max_depth=5, n_estimators=100;, score=-66525.482 total time=   0.7s\n",
      "[CV 2/3; 16/27] START learning_rate=0.001, max_depth=5, n_estimators=100........\n",
      "[CV 2/3; 16/27] END learning_rate=0.001, max_depth=5, n_estimators=100;, score=-76442.640 total time=   0.7s\n",
      "[CV 3/3; 16/27] START learning_rate=0.001, max_depth=5, n_estimators=100........\n",
      "[CV 3/3; 16/27] END learning_rate=0.001, max_depth=5, n_estimators=100;, score=-63852.359 total time=   0.7s\n",
      "[CV 1/3; 17/27] START learning_rate=0.001, max_depth=5, n_estimators=500........\n",
      "[CV 1/3; 17/27] END learning_rate=0.001, max_depth=5, n_estimators=500;, score=-64738.427 total time=   2.2s\n",
      "[CV 2/3; 17/27] START learning_rate=0.001, max_depth=5, n_estimators=500........\n",
      "[CV 2/3; 17/27] END learning_rate=0.001, max_depth=5, n_estimators=500;, score=-74703.975 total time=   2.1s\n",
      "[CV 3/3; 17/27] START learning_rate=0.001, max_depth=5, n_estimators=500........\n",
      "[CV 3/3; 17/27] END learning_rate=0.001, max_depth=5, n_estimators=500;, score=-61896.316 total time=   2.0s\n",
      "[CV 1/3; 18/27] START learning_rate=0.001, max_depth=5, n_estimators=1000.......\n",
      "[CV 1/3; 18/27] END learning_rate=0.001, max_depth=5, n_estimators=1000;, score=-63667.788 total time=   3.9s\n",
      "[CV 2/3; 18/27] START learning_rate=0.001, max_depth=5, n_estimators=1000.......\n",
      "[CV 2/3; 18/27] END learning_rate=0.001, max_depth=5, n_estimators=1000;, score=-73456.455 total time=   4.2s\n",
      "[CV 3/3; 18/27] START learning_rate=0.001, max_depth=5, n_estimators=1000.......\n",
      "[CV 3/3; 18/27] END learning_rate=0.001, max_depth=5, n_estimators=1000;, score=-60940.664 total time=   4.6s\n",
      "[CV 1/3; 19/27] START learning_rate=0.01, max_depth=1, n_estimators=100.........\n",
      "[CV 1/3; 19/27] END learning_rate=0.01, max_depth=1, n_estimators=100;, score=-64919.832 total time=   0.5s\n",
      "[CV 2/3; 19/27] START learning_rate=0.01, max_depth=1, n_estimators=100.........\n",
      "[CV 2/3; 19/27] END learning_rate=0.01, max_depth=1, n_estimators=100;, score=-74961.715 total time=   0.5s\n",
      "[CV 3/3; 19/27] START learning_rate=0.01, max_depth=1, n_estimators=100.........\n",
      "[CV 3/3; 19/27] END learning_rate=0.01, max_depth=1, n_estimators=100;, score=-61987.604 total time=   0.5s\n",
      "[CV 1/3; 20/27] START learning_rate=0.01, max_depth=1, n_estimators=500.........\n",
      "[CV 1/3; 20/27] END learning_rate=0.01, max_depth=1, n_estimators=500;, score=-63672.219 total time=   1.4s\n",
      "[CV 2/3; 20/27] START learning_rate=0.01, max_depth=1, n_estimators=500.........\n",
      "[CV 2/3; 20/27] END learning_rate=0.01, max_depth=1, n_estimators=500;, score=-73586.448 total time=   1.4s\n",
      "[CV 3/3; 20/27] START learning_rate=0.01, max_depth=1, n_estimators=500.........\n",
      "[CV 3/3; 20/27] END learning_rate=0.01, max_depth=1, n_estimators=500;, score=-60331.718 total time=   1.5s\n",
      "[CV 1/3; 21/27] START learning_rate=0.01, max_depth=1, n_estimators=1000........\n",
      "[CV 1/3; 21/27] END learning_rate=0.01, max_depth=1, n_estimators=1000;, score=-63393.557 total time=   2.5s\n",
      "[CV 2/3; 21/27] START learning_rate=0.01, max_depth=1, n_estimators=1000........\n",
      "[CV 2/3; 21/27] END learning_rate=0.01, max_depth=1, n_estimators=1000;, score=-73251.038 total time=   2.6s\n",
      "[CV 3/3; 21/27] START learning_rate=0.01, max_depth=1, n_estimators=1000........\n",
      "[CV 3/3; 21/27] END learning_rate=0.01, max_depth=1, n_estimators=1000;, score=-59952.860 total time=   2.5s\n",
      "[CV 1/3; 22/27] START learning_rate=0.01, max_depth=3, n_estimators=100.........\n",
      "[CV 1/3; 22/27] END learning_rate=0.01, max_depth=3, n_estimators=100;, score=-63990.643 total time=   0.6s\n",
      "[CV 2/3; 22/27] START learning_rate=0.01, max_depth=3, n_estimators=100.........\n",
      "[CV 2/3; 22/27] END learning_rate=0.01, max_depth=3, n_estimators=100;, score=-74000.838 total time=   0.6s\n",
      "[CV 3/3; 22/27] START learning_rate=0.01, max_depth=3, n_estimators=100.........\n",
      "[CV 3/3; 22/27] END learning_rate=0.01, max_depth=3, n_estimators=100;, score=-61108.869 total time=   0.6s\n",
      "[CV 1/3; 23/27] START learning_rate=0.01, max_depth=3, n_estimators=500.........\n",
      "[CV 1/3; 23/27] END learning_rate=0.01, max_depth=3, n_estimators=500;, score=-63174.528 total time=   1.8s\n",
      "[CV 2/3; 23/27] START learning_rate=0.01, max_depth=3, n_estimators=500.........\n",
      "[CV 2/3; 23/27] END learning_rate=0.01, max_depth=3, n_estimators=500;, score=-73036.251 total time=   1.9s\n",
      "[CV 3/3; 23/27] START learning_rate=0.01, max_depth=3, n_estimators=500.........\n",
      "[CV 3/3; 23/27] END learning_rate=0.01, max_depth=3, n_estimators=500;, score=-60071.146 total time=   1.9s\n",
      "[CV 1/3; 24/27] START learning_rate=0.01, max_depth=3, n_estimators=1000........\n",
      "[CV 1/3; 24/27] END learning_rate=0.01, max_depth=3, n_estimators=1000;, score=-62635.541 total time=   3.3s\n",
      "[CV 2/3; 24/27] START learning_rate=0.01, max_depth=3, n_estimators=1000........\n",
      "[CV 2/3; 24/27] END learning_rate=0.01, max_depth=3, n_estimators=1000;, score=-72573.251 total time=   3.3s\n",
      "[CV 3/3; 24/27] START learning_rate=0.01, max_depth=3, n_estimators=1000........\n",
      "[CV 3/3; 24/27] END learning_rate=0.01, max_depth=3, n_estimators=1000;, score=-60062.986 total time=   3.3s\n",
      "[CV 1/3; 25/27] START learning_rate=0.01, max_depth=5, n_estimators=100.........\n",
      "[CV 1/3; 25/27] END learning_rate=0.01, max_depth=5, n_estimators=100;, score=-63663.893 total time=   0.8s\n",
      "[CV 2/3; 25/27] START learning_rate=0.01, max_depth=5, n_estimators=100.........\n",
      "[CV 2/3; 25/27] END learning_rate=0.01, max_depth=5, n_estimators=100;, score=-73428.164 total time=   0.7s\n",
      "[CV 3/3; 25/27] START learning_rate=0.01, max_depth=5, n_estimators=100.........\n",
      "[CV 3/3; 25/27] END learning_rate=0.01, max_depth=5, n_estimators=100;, score=-60930.808 total time=   0.7s\n",
      "[CV 1/3; 26/27] START learning_rate=0.01, max_depth=5, n_estimators=500.........\n",
      "[CV 1/3; 26/27] END learning_rate=0.01, max_depth=5, n_estimators=500;, score=-62705.947 total time=   2.2s\n",
      "[CV 2/3; 26/27] START learning_rate=0.01, max_depth=5, n_estimators=500.........\n",
      "[CV 2/3; 26/27] END learning_rate=0.01, max_depth=5, n_estimators=500;, score=-72607.062 total time=   2.2s\n",
      "[CV 3/3; 26/27] START learning_rate=0.01, max_depth=5, n_estimators=500.........\n",
      "[CV 3/3; 26/27] END learning_rate=0.01, max_depth=5, n_estimators=500;, score=-60528.115 total time=   2.2s\n",
      "[CV 1/3; 27/27] START learning_rate=0.01, max_depth=5, n_estimators=1000........\n",
      "[CV 1/3; 27/27] END learning_rate=0.01, max_depth=5, n_estimators=1000;, score=-63142.583 total time=   3.9s\n",
      "[CV 2/3; 27/27] START learning_rate=0.01, max_depth=5, n_estimators=1000........\n",
      "[CV 2/3; 27/27] END learning_rate=0.01, max_depth=5, n_estimators=1000;, score=-72633.493 total time=   3.8s\n",
      "[CV 3/3; 27/27] START learning_rate=0.01, max_depth=5, n_estimators=1000........\n",
      "[CV 3/3; 27/27] END learning_rate=0.01, max_depth=5, n_estimators=1000;, score=-60812.708 total time=   3.9s\n"
     ]
    }
   ],
   "source": [
    "X_train, X_test, y_train, y_test = train_test_split(X, y, test_size = 0.3, random_state = 5)\n",
    "\n",
    "param_grid={'n_estimators':[100,500,1000],\n",
    "            'max_depth':[1,3,5],\n",
    "            'learning_rate':[0.0001,0.001,0.01]}\n",
    "\n",
    "grid_search_cv=GridSearchCV(estimator=XGBRegressor(),\n",
    "                         param_grid=param_grid,\n",
    "                         scoring='neg_root_mean_squared_error',\n",
    "                         cv=3,\n",
    "                         verbose=10)\n",
    "\n",
    "grid_search_cv.fit(X_train,y_train)\n",
    "\n",
    "best_model=grid_search_cv.best_estimator_"
   ]
  },
  {
   "cell_type": "code",
   "execution_count": 37,
   "metadata": {},
   "outputs": [
    {
     "data": {
      "text/plain": [
       "75382.27133705343"
      ]
     },
     "execution_count": 37,
     "metadata": {},
     "output_type": "execute_result"
    }
   ],
   "source": [
    "y_pred = best_model.predict(X_test)\n",
    "rmse = RMSE(y_pred,y_test)\n",
    "rmse"
   ]
  },
  {
   "cell_type": "code",
   "execution_count": 39,
   "metadata": {},
   "outputs": [],
   "source": [
    "pred = best_model.predict(X_t.values)\n",
    "sub = pd.DataFrame({'id':tdf['id'],\n",
    "                    'price':pred})\n",
    "# sub.to_csv('submission.csv', index=False)"
   ]
  },
  {
   "cell_type": "markdown",
   "metadata": {},
   "source": [
    "### Deep learning model"
   ]
  },
  {
   "cell_type": "code",
   "execution_count": 40,
   "metadata": {},
   "outputs": [],
   "source": [
    "cat_set = torch.tensor(df_cat.values).float()\n",
    "num_set = torch.tensor(df_num.values).float()\n",
    "labels = torch.tensor(df_price.values).float()\n",
    "\n",
    "data_set = TensorDataset(cat_set,num_set, labels)\n",
    "data_load = DataLoader(data_set, batch_size = 100, shuffle = True)\n"
   ]
  },
  {
   "cell_type": "code",
   "execution_count": 41,
   "metadata": {},
   "outputs": [],
   "source": [
    "cat_tset = torch.tensor(tdf_cat.values).float()\n",
    "num_tset = torch.tensor(tdf_num.values).float()"
   ]
  },
  {
   "cell_type": "code",
   "execution_count": 42,
   "metadata": {},
   "outputs": [],
   "source": [
    "class Net(nn.Module):\n",
    "    def __init__(self):\n",
    "        super(Net,self).__init__()\n",
    "        self.cat_layer = nn.Sequential(\n",
    "            nn.Linear(93, 40),\n",
    "            nn.ReLU(),\n",
    "            nn.Linear(40, 5),\n",
    "            nn.ReLU()\n",
    "        )\n",
    "        self.num_layer = nn.Sequential(\n",
    "            nn.BatchNorm1d(num_features = 3),\n",
    "            nn.Linear(3,3),\n",
    "            nn.ReLU(),\n",
    "            nn.Linear(3,5),\n",
    "            nn.ReLU()\n",
    "        )\n",
    "        self.regressor = nn.Linear(10, 1)\n",
    "    def forward(self,x_cat, x_num):\n",
    "        x_cat = self.cat_layer(x_cat)\n",
    "        x_num = self.num_layer(x_num)\n",
    "        x = torch.cat((x_cat,x_num), dim =1)\n",
    "        return self.regressor(x)"
   ]
  },
  {
   "cell_type": "code",
   "execution_count": 51,
   "metadata": {},
   "outputs": [
    {
     "name": "stderr",
     "output_type": "stream",
     "text": [
      "c:\\Users\\voqua\\AppData\\Local\\Programs\\Python\\Python310\\lib\\site-packages\\torch\\nn\\modules\\loss.py:535: UserWarning: Using a target size (torch.Size([100])) that is different to the input size (torch.Size([100, 1])). This will likely lead to incorrect results due to broadcasting. Please ensure they have the same size.\n",
      "  return F.mse_loss(input, target, reduction=self.reduction)\n",
      "c:\\Users\\voqua\\AppData\\Local\\Programs\\Python\\Python310\\lib\\site-packages\\torch\\nn\\modules\\loss.py:535: UserWarning: Using a target size (torch.Size([73])) that is different to the input size (torch.Size([73, 1])). This will likely lead to incorrect results due to broadcasting. Please ensure they have the same size.\n",
      "  return F.mse_loss(input, target, reduction=self.reduction)\n"
     ]
    }
   ],
   "source": [
    "net = Net()\n",
    "criterion = nn.MSELoss()\n",
    "optimizer = optim.Adam(net.parameters(), lr=0.001)\n",
    "\n",
    "for epoch in range(3):\n",
    "    for X_cat, X_num, y in data_load:\n",
    "        optimizer.zero_grad()\n",
    "        outputs = net(X_cat, X_num)\n",
    "        loss = criterion(outputs, y)\n",
    "        loss.backward()\n",
    "        optimizer.step()\n"
   ]
  },
  {
   "cell_type": "code",
   "execution_count": 54,
   "metadata": {},
   "outputs": [],
   "source": [
    "pred2 = net(cat_tset,num_tset).detach().numpy().flatten()\n",
    "sub2 = pd.DataFrame({'id':tdf['id'],\n",
    "                    'price':pred2})\n",
    "# sub.to_csv('submission.csv', index=False)"
   ]
  }
 ],
 "metadata": {
  "kernelspec": {
   "display_name": "Python 3",
   "language": "python",
   "name": "python3"
  },
  "language_info": {
   "codemirror_mode": {
    "name": "ipython",
    "version": 3
   },
   "file_extension": ".py",
   "mimetype": "text/x-python",
   "name": "python",
   "nbconvert_exporter": "python",
   "pygments_lexer": "ipython3",
   "version": "3.10.11"
  }
 },
 "nbformat": 4,
 "nbformat_minor": 2
}
